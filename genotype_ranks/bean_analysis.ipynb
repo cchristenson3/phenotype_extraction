{
 "cells": [
  {
   "cell_type": "code",
   "execution_count": 1,
   "metadata": {},
   "outputs": [],
   "source": [
    "import os\n",
    "import sys\n",
    "import pandas as pd\n",
    "import seaborn as sns"
   ]
  },
  {
   "cell_type": "code",
   "execution_count": 2,
   "metadata": {},
   "outputs": [],
   "source": [
    "df = pd.read_csv('Effects_mrbean_v2.csv')"
   ]
  },
  {
   "cell_type": "code",
   "execution_count": 3,
   "metadata": {},
   "outputs": [],
   "source": [
    "df_list = []\n",
    "cnt = 0\n",
    "\n",
    "for trait in df['Trait'].unique():\n",
    "    temp_df = df[df['Trait']==trait].sort_values('predicted.values', ascending=False)\n",
    "    top_list = temp_df.head(10)[['genotype']].reset_index(drop=True)\n",
    "    top_list.name = trait\n",
    "    df_list.append(top_list)\n",
    "\n",
    "top_result_df = pd.concat(df_list, axis=1, ignore_index=True)\n",
    "top_result_df.columns = df['Trait'].unique()\n",
    "top_result_df['Genotype Rank'] = 'Upper'"
   ]
  },
  {
   "cell_type": "code",
   "execution_count": 4,
   "metadata": {},
   "outputs": [],
   "source": [
    "df_list = []\n",
    "cnt = 0\n",
    "\n",
    "for trait in df['Trait'].unique():\n",
    "    temp_df = df[df['Trait']==trait].sort_values('predicted.values', ascending=True)\n",
    "    top_list = temp_df.head(10)[['genotype']].reset_index(drop=True)\n",
    "    top_list.name = trait\n",
    "    df_list.append(top_list)\n",
    "\n",
    "worst_result_df = pd.concat(df_list, axis=1, ignore_index=True)\n",
    "worst_result_df.columns = df['Trait'].unique()\n",
    "worst_result_df['Genotype Rank'] = 'Lower'"
   ]
  },
  {
   "cell_type": "code",
   "execution_count": 5,
   "metadata": {},
   "outputs": [],
   "source": [
    "result_df = pd.concat([top_result_df, worst_result_df])"
   ]
  },
  {
   "cell_type": "code",
   "execution_count": 6,
   "metadata": {},
   "outputs": [],
   "source": [
    "result_df = result_df.rename(columns={'objArea': 'Canopy Cover'})"
   ]
  },
  {
   "cell_type": "code",
   "execution_count": 7,
   "metadata": {},
   "outputs": [],
   "source": [
    "result_df.to_csv('trait_genotype_ranks.csv', index=False)"
   ]
  }
 ],
 "metadata": {
  "kernelspec": {
   "display_name": "Python 3",
   "language": "python",
   "name": "python3"
  },
  "language_info": {
   "codemirror_mode": {
    "name": "ipython",
    "version": 3
   },
   "file_extension": ".py",
   "mimetype": "text/x-python",
   "name": "python",
   "nbconvert_exporter": "python",
   "pygments_lexer": "ipython3",
   "version": "3.10.12"
  },
  "orig_nbformat": 4
 },
 "nbformat": 4,
 "nbformat_minor": 2
}
