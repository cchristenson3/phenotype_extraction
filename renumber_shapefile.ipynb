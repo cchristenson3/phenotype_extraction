{
 "cells": [
  {
   "cell_type": "code",
   "execution_count": 1,
   "metadata": {},
   "outputs": [],
   "source": [
    "import os\n",
    "import sys\n",
    "import pandas as pd\n",
    "import geopandas as gpd\n",
    "import numpy as np"
   ]
  },
  {
   "cell_type": "code",
   "execution_count": 2,
   "metadata": {},
   "outputs": [],
   "source": [
    "gdf = gpd.read_file(\"shapefile/F120_beans_2023_rotated_qgis.shp\")\n",
    "gdf['fieldID'] = gdf['fieldID'].astype(int)\n",
    "gdf = gdf.sort_values('fieldID')\n",
    "gdf['fieldID'] = list(range(1, 457))"
   ]
  },
  {
   "cell_type": "code",
   "execution_count": 3,
   "metadata": {},
   "outputs": [],
   "source": [
    "# def add_plot_number(gdf):\n",
    "#     gdf = gdf.copy()\n",
    "#     gdf['plot_number'] = np.nan\n",
    "    \n",
    "#     for index, row in gdf.iterrows():\n",
    "#         fieldID = row['fieldID']\n",
    "#         range_num = 20 - (fieldID - 1) // 24\n",
    "#         col_num = (fieldID - 1) % 24 + 1\n",
    "#         plot_number = f\"{range_num:02}{col_num:02}\"\n",
    "#         gdf.at[index, 'plot_number'] = plot_number.zfill(4)\n",
    "    \n",
    "#     return gdf\n",
    "def add_plot_number(gdf):\n",
    "    gdf = gdf.copy()\n",
    "    gdf['plot_number'] = np.nan\n",
    "    \n",
    "    for index, row in gdf.iterrows():\n",
    "        fieldID = row['fieldID']\n",
    "        range_num = 19 - (fieldID - 1) // 24\n",
    "        col_num = (fieldID - 1) % 24 + 1\n",
    "        plot_number = f\"{range_num:02}{col_num:02}\"\n",
    "        gdf.at[index, 'plot_number'] = plot_number.zfill(4)\n",
    "    \n",
    "    return gdf\n",
    "\n",
    "gdf = add_plot_number(gdf)"
   ]
  },
  {
   "cell_type": "code",
   "execution_count": 4,
   "metadata": {},
   "outputs": [],
   "source": [
    "gdf['plot_number'] = gdf['plot_number'].astype(int).astype(str).str.zfill(4)"
   ]
  },
  {
   "cell_type": "code",
   "execution_count": 5,
   "metadata": {},
   "outputs": [],
   "source": [
    "gdf = gdf.drop('fieldID', axis=1).rename(columns={'plot_number': 'fieldID'})"
   ]
  },
  {
   "cell_type": "code",
   "execution_count": 6,
   "metadata": {},
   "outputs": [],
   "source": [
    "gdf.to_file(\"shapefile/F120_beans_2023_rotated_qgis_updated.shp\")"
   ]
  }
 ],
 "metadata": {
  "kernelspec": {
   "display_name": "Python 3",
   "language": "python",
   "name": "python3"
  },
  "language_info": {
   "codemirror_mode": {
    "name": "ipython",
    "version": 3
   },
   "file_extension": ".py",
   "mimetype": "text/x-python",
   "name": "python",
   "nbconvert_exporter": "python",
   "pygments_lexer": "ipython3",
   "version": "3.10.6"
  },
  "orig_nbformat": 4
 },
 "nbformat": 4,
 "nbformat_minor": 2
}
