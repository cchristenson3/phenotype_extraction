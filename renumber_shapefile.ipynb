{
 "cells": [
  {
   "cell_type": "code",
   "execution_count": 21,
   "metadata": {},
   "outputs": [],
   "source": [
    "import os\n",
    "import sys\n",
    "import pandas as pd\n",
    "import geopandas as gpd\n",
    "import numpy as np\n",
    "import glob\n",
    "import seaborn as sns"
   ]
  },
  {
   "cell_type": "code",
   "execution_count": 22,
   "metadata": {},
   "outputs": [],
   "source": [
    "def add_plot_number(gdf):\n",
    "    gdf = gdf.copy()\n",
    "    gdf['plot_number'] = np.nan\n",
    "    \n",
    "    for index, row in gdf.iterrows():\n",
    "        fieldID = int(row['fieldID'])\n",
    "        range_num = 19 - (fieldID - 1) // 24\n",
    "        col_num = (fieldID - 1) % 24 + 1\n",
    "        plot_number = f\"{range_num:02}{col_num:02}\"\n",
    "        gdf.at[index, 'plot_number'] = plot_number.zfill(4)\n",
    "    \n",
    "    return gdf"
   ]
  },
  {
   "cell_type": "markdown",
   "metadata": {},
   "source": [
    "# Data"
   ]
  },
  {
   "cell_type": "code",
   "execution_count": 23,
   "metadata": {},
   "outputs": [],
   "source": [
    "result_list = []\n",
    "\n",
    "for csv in glob.glob('./outputs/dep/*.csv'):\n",
    "    mon, day, year = os.path.basename(csv).split('_')[:3]\n",
    "    date = '-'.join([year, mon.zfill(2), day.zfill(2)])\n",
    "    temp_df = pd.read_csv(csv)\n",
    "    temp_df = temp_df.rename(columns={'ID': 'fieldID'})\n",
    "    temp_df['fieldID'] = temp_df['fieldID'].astype(int)\n",
    "    temp_df = temp_df.sort_values('fieldID')\n",
    "    temp_df['fieldID'] = list(range(1, 457))\n",
    "    temp_df['date'] = date\n",
    "\n",
    "    temp_df = add_plot_number(temp_df)\n",
    "    temp_df['plot_number'] = temp_df['plot_number'].astype(int).astype(str).str.zfill(4)\n",
    "    temp_df = temp_df.drop('fieldID', axis=1).rename(columns={'plot_number': 'fieldID'})\n",
    "    result_list.append(temp_df)\n",
    "\n",
    "result_df = pd.concat(result_list)\n",
    "result_df['date'] = pd.to_datetime(result_df['date'])\n",
    "result_df = result_df.rename(columns={'fieldID': 'plot'})\n",
    "result_df = result_df.sort_values(['date', 'plot'])\n",
    "result_df = result_df.set_index(['date', 'plot'])"
   ]
  },
  {
   "cell_type": "code",
   "execution_count": 24,
   "metadata": {},
   "outputs": [],
   "source": [
    "result_df.to_csv('F120_beans_2023.csv')"
   ]
  },
  {
   "cell_type": "markdown",
   "metadata": {},
   "source": [
    "# Shapefile"
   ]
  },
  {
   "cell_type": "code",
   "execution_count": null,
   "metadata": {},
   "outputs": [],
   "source": [
    "# def add_plot_number(gdf):\n",
    "#     gdf = gdf.copy()\n",
    "#     gdf['plot_number'] = np.nan\n",
    "    \n",
    "#     for index, row in gdf.iterrows():\n",
    "#         fieldID = row['fieldID']\n",
    "#         range_num = 20 - (fieldID - 1) // 24\n",
    "#         col_num = (fieldID - 1) % 24 + 1\n",
    "#         plot_number = f\"{range_num:02}{col_num:02}\"\n",
    "#         gdf.at[index, 'plot_number'] = plot_number.zfill(4)\n",
    "    \n",
    "#     return gdf\n",
    "\n",
    "\n",
    "\n",
    "\n",
    "gdf = gpd.read_file(\"shapefile/F120_beans_2023_rotated_qgis.shp\")\n",
    "gdf['fieldID'] = gdf['fieldID'].astype(int)\n",
    "gdf = gdf.sort_values('fieldID')\n",
    "gdf['fieldID'] = list(range(1, 457))\n",
    "\n",
    "gdf = add_plot_number(gdf)\n",
    "gdf['plot_number'] = gdf['plot_number'].astype(int).astype(str).str.zfill(4)\n",
    "gdf = gdf.drop('fieldID', axis=1).rename(columns={'plot_number': 'fieldID'})\n",
    "# gdf.to_file(\"shapefile/F120_beans_2023_rotated_qgis_updated.shp\")"
   ]
  }
 ],
 "metadata": {
  "kernelspec": {
   "display_name": "Python 3",
   "language": "python",
   "name": "python3"
  },
  "language_info": {
   "codemirror_mode": {
    "name": "ipython",
    "version": 3
   },
   "file_extension": ".py",
   "mimetype": "text/x-python",
   "name": "python",
   "nbconvert_exporter": "python",
   "pygments_lexer": "ipython3",
   "version": "3.10.6"
  },
  "orig_nbformat": 4
 },
 "nbformat": 4,
 "nbformat_minor": 2
}
